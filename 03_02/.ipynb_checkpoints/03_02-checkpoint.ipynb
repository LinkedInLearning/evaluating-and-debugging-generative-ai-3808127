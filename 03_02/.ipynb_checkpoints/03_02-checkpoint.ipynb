{
 "cells": [
  {
   "cell_type": "markdown",
   "id": "caa8cd98",
   "metadata": {},
   "source": [
    "# Implement Troubleshooting Techniques"
   ]
  },
  {
   "cell_type": "markdown",
   "id": "a19276f8-3553-4c5e-9789-44050539f21e",
   "metadata": {},
   "source": [
    "### Install the necessary libraries"
   ]
  },
  {
   "cell_type": "code",
   "execution_count": null,
   "id": "893d6110-9229-417b-93ac-5f23d4a58bd6",
   "metadata": {},
   "outputs": [],
   "source": [
    "pip install tensorflow"
   ]
  },
  {
   "cell_type": "markdown",
   "id": "c51868f3-2fe1-4945-80eb-e87b8c07c96e",
   "metadata": {},
   "source": [
    "## Troubleshooting Mode Collapse in GANs"
   ]
  },
  {
   "cell_type": "markdown",
   "id": "49961eb7-0017-4a1a-b821-fe0aa9b89888",
   "metadata": {},
   "source": [
    "### Import the necessary libraries"
   ]
  },
  {
   "cell_type": "code",
   "execution_count": 24,
   "id": "e5dffe42-557e-4f36-adb1-aed0cfd433bc",
   "metadata": {},
   "outputs": [],
   "source": [
    "import tensorflow as tf\n",
    "from tensorflow.keras.layers import Input, Dense, GaussianNoise\n",
    "from tensorflow.keras.models import Model"
   ]
  },
  {
   "cell_type": "code",
   "execution_count": 25,
   "id": "ae5c3f24-7aea-44ba-b88a-6cb7a96d8857",
   "metadata": {},
   "outputs": [],
   "source": [
    "def build_generator(latent_dim):\n",
    "    # Input layer with latent dimensions\n",
    "    latent_input = Input(shape=(latent_dim,))\n",
    "    \n",
    "    # Add Gaussian noise to input\n",
    "    noisy_latent = GaussianNoise(0.1)(latent_input)\n",
    "\n",
    "    # Building the generator network\n",
    "    x = Dense(256, activation='relu')(noisy_latent)\n",
    "    x = Dense(512, activation='relu')(x)\n",
    "    x = Dense(1024, activation='relu')(x)\n",
    "    generated_image = Dense(784, activation='sigmoid')(x)  # Assuming we're generating 28x28 images\n",
    "\n",
    "    # Create model\n",
    "    model = Model(inputs=latent_input, outputs=generated_image)\n",
    "    return model"
   ]
  },
  {
   "cell_type": "code",
   "execution_count": 26,
   "id": "93c37944-a12f-4f58-91b2-2f50bece4cc3",
   "metadata": {},
   "outputs": [
    {
     "name": "stdout",
     "output_type": "stream",
     "text": [
      "Model: \"model_2\"\n",
      "_________________________________________________________________\n",
      " Layer (type)                Output Shape              Param #   \n",
      "=================================================================\n",
      " input_3 (InputLayer)        [(None, 100)]             0         \n",
      "                                                                 \n",
      " gaussian_noise_2 (Gaussian  (None, 100)               0         \n",
      " Noise)                                                          \n",
      "                                                                 \n",
      " dense_52 (Dense)            (None, 256)               25856     \n",
      "                                                                 \n",
      " dense_53 (Dense)            (None, 512)               131584    \n",
      "                                                                 \n",
      " dense_54 (Dense)            (None, 1024)              525312    \n",
      "                                                                 \n",
      " dense_55 (Dense)            (None, 784)               803600    \n",
      "                                                                 \n",
      "=================================================================\n",
      "Total params: 1486352 (5.67 MB)\n",
      "Trainable params: 1486352 (5.67 MB)\n",
      "Non-trainable params: 0 (0.00 Byte)\n",
      "_________________________________________________________________\n"
     ]
    }
   ],
   "source": [
    "# Example usage\n",
    "latent_dim = 100  # Dimensionality of the latent space\n",
    "generator = build_generator(latent_dim)\n",
    "generator.summary()"
   ]
  },
  {
   "cell_type": "markdown",
   "id": "2d8f555c-07b8-4484-a54f-ecaf6f5260a2",
   "metadata": {},
   "source": [
    "## Correcting Vanishing Gradients Through Weight Initialization"
   ]
  },
  {
   "cell_type": "code",
   "execution_count": 27,
   "id": "76ff9197-0307-4daf-b283-1d02b5da6f60",
   "metadata": {},
   "outputs": [],
   "source": [
    "import tensorflow as tf\n",
    "from tensorflow.keras.models import Sequential\n",
    "from tensorflow.keras.layers import Dense\n",
    "from tensorflow.keras.initializers import HeNormal"
   ]
  },
  {
   "cell_type": "code",
   "execution_count": 28,
   "id": "6b625b0e-693b-4fcb-be09-0c03201b2ffd",
   "metadata": {},
   "outputs": [],
   "source": [
    "def build_model(input_shape, num_classes):\n",
    "    model = Sequential([\n",
    "        Dense(128, input_shape=(input_shape,), kernel_initializer=HeNormal(), activation='relu'),\n",
    "        Dense(256, kernel_initializer=HeNormal(), activation='relu'),\n",
    "        Dense(512, kernel_initializer=HeNormal(), activation='relu'),\n",
    "        Dense(num_classes, kernel_initializer=HeNormal(), activation='softmax')\n",
    "    ])\n",
    "\n",
    "    model.compile(optimizer='adam',\n",
    "                  loss='categorical_crossentropy',\n",
    "                  metrics=['accuracy'])\n",
    "    \n",
    "    return model"
   ]
  },
  {
   "cell_type": "code",
   "execution_count": 29,
   "id": "f972a203-d669-4f56-97fd-be984b14d904",
   "metadata": {},
   "outputs": [
    {
     "name": "stdout",
     "output_type": "stream",
     "text": [
      "Model: \"sequential_11\"\n",
      "_________________________________________________________________\n",
      " Layer (type)                Output Shape              Param #   \n",
      "=================================================================\n",
      " dense_56 (Dense)            (None, 128)               100480    \n",
      "                                                                 \n",
      " dense_57 (Dense)            (None, 256)               33024     \n",
      "                                                                 \n",
      " dense_58 (Dense)            (None, 512)               131584    \n",
      "                                                                 \n",
      " dense_59 (Dense)            (None, 10)                5130      \n",
      "                                                                 \n",
      "=================================================================\n",
      "Total params: 270218 (1.03 MB)\n",
      "Trainable params: 270218 (1.03 MB)\n",
      "Non-trainable params: 0 (0.00 Byte)\n",
      "_________________________________________________________________\n"
     ]
    }
   ],
   "source": [
    "# Example usage for a classification task\n",
    "model = build_model(784, 10)  # For MNIST dataset\n",
    "model.summary()"
   ]
  },
  {
   "cell_type": "code",
   "execution_count": null,
   "id": "f9458fcd-d63c-4412-a83e-6eb07123b697",
   "metadata": {},
   "outputs": [],
   "source": []
  }
 ],
 "metadata": {
  "kernelspec": {
   "display_name": "Python 3 (ipykernel)",
   "language": "python",
   "name": "python3"
  },
  "language_info": {
   "codemirror_mode": {
    "name": "ipython",
    "version": 3
   },
   "file_extension": ".py",
   "mimetype": "text/x-python",
   "name": "python",
   "nbconvert_exporter": "python",
   "pygments_lexer": "ipython3",
   "version": "3.8.9"
  }
 },
 "nbformat": 4,
 "nbformat_minor": 5
}
