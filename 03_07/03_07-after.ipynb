{
 "cells": [
  {
   "cell_type": "markdown",
   "id": "caa8cd98",
   "metadata": {},
   "source": [
    "# Implement Troubleshooting Techniques"
   ]
  },
  {
   "cell_type": "markdown",
   "id": "a19276f8-3553-4c5e-9789-44050539f21e",
   "metadata": {},
   "source": [
    "### Install the necessary libraries"
   ]
  },
  {
   "cell_type": "code",
   "execution_count": null,
   "id": "893d6110-9229-417b-93ac-5f23d4a58bd6",
   "metadata": {},
   "outputs": [],
   "source": [
    "pip install tensorflow"
   ]
  },
  {
   "cell_type": "markdown",
   "id": "2d8f555c-07b8-4484-a54f-ecaf6f5260a2",
   "metadata": {},
   "source": [
    "## Correcting Vanishing Gradients Through Weight Initialization"
   ]
  },
  {
   "cell_type": "code",
   "execution_count": 21,
   "id": "76ff9197-0307-4daf-b283-1d02b5da6f60",
   "metadata": {},
   "outputs": [],
   "source": [
    "import tensorflow as tf\n",
    "from tensorflow.keras.models import Sequential\n",
    "from tensorflow.keras.layers import Dense\n",
    "from tensorflow.keras.initializers import HeNormal"
   ]
  },
  {
   "cell_type": "code",
   "execution_count": 22,
   "id": "6b625b0e-693b-4fcb-be09-0c03201b2ffd",
   "metadata": {},
   "outputs": [],
   "source": [
    "def build_model(input_shape, num_classes):\n",
    "    model = Sequential([\n",
    "        Dense(128, input_shape=(input_shape,), kernel_initializer=HeNormal(), activation='relu'),\n",
    "        Dense(256, kernel_initializer=HeNormal(), activation='relu'),\n",
    "        Dense(512, kernel_initializer=HeNormal(), activation='relu'),\n",
    "        Dense(num_classes, kernel_initializer=HeNormal(), activation='softmax')\n",
    "    ])\n",
    "\n",
    "    model.compile(optimizer='adam',\n",
    "                  loss='categorical_crossentropy',\n",
    "                  metrics=['accuracy'])\n",
    "    \n",
    "    return model"
   ]
  },
  {
   "cell_type": "markdown",
   "id": "4eaca87f-d56b-4fc2-be28-c4cd5421d2b9",
   "metadata": {},
   "source": [
    "### TODO: Train and evaluate the model on the MNIST dataset:"
   ]
  },
  {
   "cell_type": "code",
   "execution_count": 23,
   "id": "faa0cc3e-6b2d-43d5-8dfc-7de965d35121",
   "metadata": {},
   "outputs": [
    {
     "name": "stdout",
     "output_type": "stream",
     "text": [
      "Epoch 1/10\n",
      "1500/1500 [==============================] - 6s 4ms/step - loss: 0.2309 - accuracy: 0.9292 - val_loss: 0.1266 - val_accuracy: 0.9604\n",
      "Epoch 2/10\n",
      "1500/1500 [==============================] - 5s 3ms/step - loss: 0.1060 - accuracy: 0.9671 - val_loss: 0.1104 - val_accuracy: 0.9662\n",
      "Epoch 3/10\n",
      "1500/1500 [==============================] - 4s 3ms/step - loss: 0.0776 - accuracy: 0.9757 - val_loss: 0.1144 - val_accuracy: 0.9675\n",
      "Epoch 4/10\n",
      "1500/1500 [==============================] - 5s 3ms/step - loss: 0.0603 - accuracy: 0.9814 - val_loss: 0.1067 - val_accuracy: 0.9707\n",
      "Epoch 5/10\n",
      "1500/1500 [==============================] - 7s 5ms/step - loss: 0.0497 - accuracy: 0.9849 - val_loss: 0.1031 - val_accuracy: 0.9733\n",
      "Epoch 6/10\n",
      "1500/1500 [==============================] - 5s 4ms/step - loss: 0.0422 - accuracy: 0.9863 - val_loss: 0.1307 - val_accuracy: 0.9638\n",
      "Epoch 7/10\n",
      "1500/1500 [==============================] - 5s 3ms/step - loss: 0.0386 - accuracy: 0.9876 - val_loss: 0.1009 - val_accuracy: 0.9727\n",
      "Epoch 8/10\n",
      "1500/1500 [==============================] - 6s 4ms/step - loss: 0.0321 - accuracy: 0.9901 - val_loss: 0.1142 - val_accuracy: 0.9725\n",
      "Epoch 9/10\n",
      "1500/1500 [==============================] - 6s 4ms/step - loss: 0.0297 - accuracy: 0.9909 - val_loss: 0.1062 - val_accuracy: 0.9766\n",
      "Epoch 10/10\n",
      "1500/1500 [==============================] - 6s 4ms/step - loss: 0.0264 - accuracy: 0.9921 - val_loss: 0.1204 - val_accuracy: 0.9745\n",
      "313/313 [==============================] - 1s 1ms/step - loss: 0.1052 - accuracy: 0.9754\n",
      "Test accuracy: 0.9754\n"
     ]
    }
   ],
   "source": [
    "import tensorflow as tf\n",
    "from tensorflow.keras.datasets import mnist\n",
    "from tensorflow.keras.utils import to_categorical\n",
    "\n",
    "# Load and preprocess the MNIST dataset\n",
    "(x_train, y_train), (x_test, y_test) = mnist.load_data()\n",
    "x_train = x_train.reshape(-1, 784).astype('float32') / 255\n",
    "x_test = x_test.reshape(-1, 784).astype('float32') / 255\n",
    "\n",
    "# Convert labels to one-hot encoding\n",
    "y_train = to_categorical(y_train, 10)\n",
    "y_test = to_categorical(y_test, 10)\n",
    "\n",
    "# Build the model\n",
    "model = build_model(784, 10)\n",
    "\n",
    "# Train the model\n",
    "model.fit(x_train, y_train, epochs=10, batch_size=32, validation_split=0.2)\n",
    "\n",
    "# Evaluate the model\n",
    "test_loss, test_acc = model.evaluate(x_test, y_test)\n",
    "print(f'Test accuracy: {test_acc:.4f}')"
   ]
  },
  {
   "cell_type": "code",
   "execution_count": null,
   "id": "db701061-a38c-4058-8ded-8073d2955489",
   "metadata": {},
   "outputs": [],
   "source": []
  }
 ],
 "metadata": {
  "kernelspec": {
   "display_name": "Python 3 (ipykernel)",
   "language": "python",
   "name": "python3"
  },
  "language_info": {
   "codemirror_mode": {
    "name": "ipython",
    "version": 3
   },
   "file_extension": ".py",
   "mimetype": "text/x-python",
   "name": "python",
   "nbconvert_exporter": "python",
   "pygments_lexer": "ipython3",
   "version": "3.8.9"
  }
 },
 "nbformat": 4,
 "nbformat_minor": 5
}
