{
 "cells": [
  {
   "cell_type": "markdown",
   "id": "caa8cd98",
   "metadata": {},
   "source": [
    "# Implement Troubleshooting Techniques"
   ]
  },
  {
   "cell_type": "markdown",
   "id": "a19276f8-3553-4c5e-9789-44050539f21e",
   "metadata": {},
   "source": [
    "### Install the necessary libraries"
   ]
  },
  {
   "cell_type": "code",
   "execution_count": null,
   "id": "893d6110-9229-417b-93ac-5f23d4a58bd6",
   "metadata": {},
   "outputs": [],
   "source": [
    "pip install tensorflow"
   ]
  },
  {
   "cell_type": "markdown",
   "id": "c51868f3-2fe1-4945-80eb-e87b8c07c96e",
   "metadata": {},
   "source": [
    "## Troubleshooting Mode Collapse in GANs"
   ]
  },
  {
   "cell_type": "markdown",
   "id": "49961eb7-0017-4a1a-b821-fe0aa9b89888",
   "metadata": {},
   "source": [
    "### Import the necessary libraries"
   ]
  },
  {
   "cell_type": "code",
   "execution_count": 17,
   "id": "e5dffe42-557e-4f36-adb1-aed0cfd433bc",
   "metadata": {},
   "outputs": [],
   "source": [
    "import tensorflow as tf\n",
    "from tensorflow.keras.layers import Input, Dense, GaussianNoise\n",
    "from tensorflow.keras.models import Model"
   ]
  },
  {
   "cell_type": "code",
   "execution_count": 18,
   "id": "ae5c3f24-7aea-44ba-b88a-6cb7a96d8857",
   "metadata": {},
   "outputs": [],
   "source": [
    "def build_generator(latent_dim):\n",
    "    # Input layer with latent dimensions\n",
    "    latent_input = Input(shape=(latent_dim,))\n",
    "    \n",
    "    #  #TODO -- Add Gaussian noise to input\n",
    "    noisy_latent = GaussianNoise(0.1)(latent_input)\n",
    "\n",
    "    # Building the generator network\n",
    "    x = Dense(256, activation='relu')(noisy_latent)\n",
    "    x = Dense(512, activation='relu')(x)\n",
    "    x = Dense(1024, activation='relu')(x)\n",
    "    generated_image = Dense(784, activation='sigmoid')(x)  # Assuming we're generating 28x28 images\n",
    "\n",
    "    # Create model\n",
    "    model = Model(inputs=latent_input, outputs=generated_image)\n",
    "    return model"
   ]
  },
  {
   "cell_type": "markdown",
   "id": "31635372-f003-41f3-8226-dc09e1949315",
   "metadata": {},
   "source": [
    "### Use the generator to generate and visualize images"
   ]
  },
  {
   "cell_type": "code",
   "execution_count": 19,
   "id": "00564b5c-ac71-45f4-bbd8-ffd1cbc2ff9c",
   "metadata": {},
   "outputs": [
    {
     "name": "stdout",
     "output_type": "stream",
     "text": [
      "1/1 [==============================] - 0s 120ms/step\n"
     ]
    },
    {
     "data": {
      "image/png": "[encoded data removed]",
      "text/plain": [
       "<Figure size 1000x200 with 5 Axes>"
      ]
     },
     "metadata": {},
     "output_type": "display_data"
    }
   ],
   "source": [
    "import numpy as np\n",
    "import matplotlib.pyplot as plt\n",
    "\n",
    "# Build the generator\n",
    "latent_dim = 100  # Dimensionality of the latent space\n",
    "generator = build_generator(latent_dim)\n",
    "\n",
    "# Generate random latent vectors\n",
    "num_samples = 5\n",
    "random_latent_vectors = np.random.normal(0, 1, (num_samples, latent_dim))\n",
    "\n",
    "# Generate images from the latent vectors\n",
    "generated_images = generator.predict(random_latent_vectors)\n",
    "\n",
    "# Reshape and plot the generated images\n",
    "generated_images = generated_images.reshape(num_samples, 28, 28)\n",
    "\n",
    "# Plot the generated images\n",
    "plt.figure(figsize=(10, 2))\n",
    "for i in range(num_samples):\n",
    "    plt.subplot(1, num_samples, i + 1)\n",
    "    plt.imshow(generated_images[i], cmap='gray')\n",
    "    plt.axis('off')\n",
    "plt.show()"
   ]
  }
 ],
 "metadata": {
  "kernelspec": {
   "display_name": "Python 3 (ipykernel)",
   "language": "python",
   "name": "python3"
  },
  "language_info": {
   "codemirror_mode": {
    "name": "ipython",
    "version": 3
   },
   "file_extension": ".py",
   "mimetype": "text/x-python",
   "name": "python",
   "nbconvert_exporter": "python",
   "pygments_lexer": "ipython3",
   "version": "3.8.9"
  }
 },
 "nbformat": 4,
 "nbformat_minor": 5
}
