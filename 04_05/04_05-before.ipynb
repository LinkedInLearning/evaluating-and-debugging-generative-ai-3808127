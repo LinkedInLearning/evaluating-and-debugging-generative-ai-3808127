{
 "cells": [
  {
   "cell_type": "markdown",
   "id": "caa8cd98",
   "metadata": {},
   "source": [
    "# Solution: Implement Bias Mitigation"
   ]
  },
  {
   "cell_type": "markdown",
   "id": "a19276f8-3553-4c5e-9789-44050539f21e",
   "metadata": {},
   "source": [
    "### Install the necessary libraries"
   ]
  },
  {
   "cell_type": "code",
   "execution_count": null,
   "id": "893d6110-9229-417b-93ac-5f23d4a58bd6",
   "metadata": {},
   "outputs": [],
   "source": [
    "pip install tensorflow"
   ]
  },
  {
   "cell_type": "code",
   "execution_count": 3,
   "id": "4d449786-677f-4266-b3ec-3abe3535de84",
   "metadata": {},
   "outputs": [],
   "source": [
    "import pandas as pd\n",
    "import matplotlib.pyplot as plt"
   ]
  },
  {
   "cell_type": "code",
   "execution_count": 13,
   "id": "570d88a7-3eb0-44d2-b12b-f9f96c6e2a21",
   "metadata": {},
   "outputs": [],
   "source": [
    "# TODO: Load your dataset\n"
   ]
  },
  {
   "cell_type": "code",
   "execution_count": null,
   "id": "51b280bf-3f59-40c6-9421-511d426fe75f",
   "metadata": {},
   "outputs": [],
   "source": [
    "# TODO: Analyze gender distribution\n"
   ]
  },
  {
   "cell_type": "code",
   "execution_count": null,
   "id": "9dbc75a2-0786-4d4f-9329-f4472dfb56c6",
   "metadata": {},
   "outputs": [],
   "source": [
    "from sklearn.utils import resample\n",
    "\n",
    "# TODO: Encode categorical variables\n",
    "\n",
    "\n",
    "# TODO: Separate majority and minority classes\n",
    "df_majority =   # Assuming 'male' is encoded as 1\n",
    "df_minority =   # Assuming 'female' is encoded as 0\n",
    "\n",
    "# Upsample minority class\n",
    "df_minority_upsampled = resample(df_minority, \n",
    "                                 replace=True,     # sample with replacement\n",
    "                                 n_samples=len(df_majority),    # to match majority class\n",
    "                                 random_state=123) # reproducible results\n",
    "\n",
    "# Combine majority class with upsampled minority class\n",
    "df_upsampled = pd.concat([df_majority, df_minority_upsampled])\n",
    "\n",
    "# Display new class counts\n",
    "print(df_upsampled.gender.value_counts())"
   ]
  },
  {
   "cell_type": "markdown",
   "id": "b5a43ead-3fcd-4298-894b-be7171ac868b",
   "metadata": {},
   "source": [
    "### TODO - Train your model on the balanced dataset"
   ]
  },
  {
   "cell_type": "code",
   "execution_count": null,
   "id": "fadbb4cc-1e56-4f36-b5fc-0be467b9c3f6",
   "metadata": {},
   "outputs": [],
   "source": []
  }
 ],
 "metadata": {
  "kernelspec": {
   "display_name": "Python 3 (ipykernel)",
   "language": "python",
   "name": "python3"
  },
  "language_info": {
   "codemirror_mode": {
    "name": "ipython",
    "version": 3
   },
   "file_extension": ".py",
   "mimetype": "text/x-python",
   "name": "python",
   "nbconvert_exporter": "python",
   "pygments_lexer": "ipython3",
   "version": "3.8.9"
  }
 },
 "nbformat": 4,
 "nbformat_minor": 5
}
