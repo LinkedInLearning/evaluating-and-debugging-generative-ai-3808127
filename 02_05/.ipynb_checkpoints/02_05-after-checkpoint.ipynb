{
 "cells": [
  {
   "cell_type": "markdown",
   "id": "caa8cd98",
   "metadata": {},
   "source": [
    "# 02_05: Solution: Evaluate Image Quality"
   ]
  },
  {
   "cell_type": "markdown",
   "id": "b126d991",
   "metadata": {},
   "source": [
    "### Install the necesarry libraries. "
   ]
  },
  {
   "cell_type": "code",
   "execution_count": null,
   "id": "cbb7c175",
   "metadata": {},
   "outputs": [],
   "source": [
    "pip install tensorflow"
   ]
  },
  {
   "cell_type": "code",
   "execution_count": null,
   "id": "ba3a54f9-8b89-4bf8-9c93-b066996bd965",
   "metadata": {},
   "outputs": [],
   "source": [
    "pip install tensorflow_gan"
   ]
  },
  {
   "cell_type": "code",
   "execution_count": null,
   "id": "c8a2ff60-4018-48c5-904f-c3aecb260685",
   "metadata": {},
   "outputs": [],
   "source": [
    "pip install scikit-image"
   ]
  },
  {
   "cell_type": "markdown",
   "id": "a19276f8-3553-4c5e-9789-44050539f21e",
   "metadata": {},
   "source": [
    "### Calculate the FID score"
   ]
  },
  {
   "cell_type": "code",
   "execution_count": 9,
   "id": "ed167cb1-4d31-48fc-84a2-fa1d2c9cfbb7",
   "metadata": {},
   "outputs": [],
   "source": [
    "import os\n",
    "import numpy as np\n",
    "import tensorflow as tf\n",
    "from tensorflow.keras.applications.inception_v3 import InceptionV3, preprocess_input\n",
    "from skimage import io\n",
    "from scipy.linalg import sqrtm"
   ]
  },
  {
   "cell_type": "code",
   "execution_count": 3,
   "id": "17ece0be-1bfb-49f3-800d-bdeffc628c51",
   "metadata": {},
   "outputs": [],
   "source": [
    "def load_and_preprocess_images(directory, target_size=(299, 299)):\n",
    "    images = []\n",
    "    for filename in os.listdir(directory):\n",
    "        if filename.endswith(\".png\"):  # Adjust if different image format\n",
    "            image = io.imread(os.path.join(directory, filename))\n",
    "            if image.shape[-1] == 4:\n",
    "                image = image[..., :3]  # Remove alpha channel if present\n",
    "            image = tf.image.resize(image, target_size)\n",
    "            image = preprocess_input(image.numpy())\n",
    "            images.append(image)\n",
    "    return np.array(images)\n",
    "\n",
    "def calculate_fid(model, images1, images2):\n",
    "    # Calculate activations\n",
    "    act1 = model.predict(images1)\n",
    "    act2 = model.predict(images2)\n",
    "    \n",
    "    # Calculate mean and covariance statistics\n",
    "    mu1, sigma1 = act1.mean(axis=0), np.cov(act1, rowvar=False)\n",
    "    mu2, sigma2 = act2.mean(axis=0), np.cov(act2, rowvar=False)\n",
    "    \n",
    "    # Calculate sum squared difference between means\n",
    "    ssdiff = np.sum((mu1 - mu2) ** 2.0)\n",
    "    \n",
    "    # Calculate sqrt of product between covariances\n",
    "    covmean = sqrtm(sigma1.dot(sigma2))\n",
    "    \n",
    "    # Check and correct imaginary numbers from sqrt\n",
    "    if np.iscomplexobj(covmean):\n",
    "        covmean = covmean.real\n",
    "    \n",
    "    # Calculate FID score\n",
    "    fid = ssdiff + np.trace(sigma1 + sigma2 - 2.0 * covmean)\n",
    "    return fid"
   ]
  },
  {
   "cell_type": "code",
   "execution_count": 4,
   "id": "4105603e-ae7c-4cc3-a7fc-508a6afab0ed",
   "metadata": {},
   "outputs": [],
   "source": [
    "# Paths to your dataset folders\n",
    "real_images_path = 'real_images/'\n",
    "generated_images_path = 'fake_images/'"
   ]
  },
  {
   "cell_type": "markdown",
   "id": "e29cd148-3dbe-43f7-a4dd-294fd42c177a",
   "metadata": {},
   "source": [
    "#### STEP 1: Load and preprocess your images using the load_and_preprocess_images function\n"
   ]
  },
  {
   "cell_type": "code",
   "execution_count": 5,
   "id": "789eaaf9-997c-474a-8d5f-14a86a6964f1",
   "metadata": {},
   "outputs": [],
   "source": [
    "# Load and preprocess images\n",
    "real_images = load_and_preprocess_images(real_images_path)"
   ]
  },
  {
   "cell_type": "code",
   "execution_count": 6,
   "id": "9d966b67-94e8-4757-a045-94fad1d95a2d",
   "metadata": {},
   "outputs": [],
   "source": [
    "generated_images = load_and_preprocess_images(generated_images_path)"
   ]
  },
  {
   "cell_type": "markdown",
   "id": "bedcb2e3-0317-471e-8b79-08039152f515",
   "metadata": {},
   "source": [
    "#### STEP 2: Load InceptionV3 model with the following parameters: include_top=False, pooling='avg', input_shape=(299, 299, 3)"
   ]
  },
  {
   "cell_type": "code",
   "execution_count": 7,
   "id": "91240897-559f-442a-8f4e-8400b1df0cea",
   "metadata": {},
   "outputs": [],
   "source": [
    "# Load InceptionV3 model\n",
    "inception_model = InceptionV3(include_top=False, pooling='avg', input_shape=(299, 299, 3))"
   ]
  },
  {
   "cell_type": "markdown",
   "id": "8f9b620e-d6b9-438b-9d98-99a5d9bf2bfc",
   "metadata": {},
   "source": [
    "#### STEP 3: Calculate and print the FID using the calculate_fid function"
   ]
  },
  {
   "cell_type": "code",
   "execution_count": 8,
   "id": "635f8aec-5737-4c2c-8cfa-afc25a0f13e7",
   "metadata": {},
   "outputs": [
    {
     "name": "stdout",
     "output_type": "stream",
     "text": [
      "1/1 [==============================] - 1s 1s/step\n",
      "1/1 [==============================] - 0s 128ms/step\n",
      "FID score: 68.25399355871032\n"
     ]
    }
   ],
   "source": [
    "# Calculate FID\n",
    "fid_score = calculate_fid(inception_model, real_images, generated_images)\n",
    "print(f'FID score: {fid_score}')"
   ]
  },
  {
   "cell_type": "code",
   "execution_count": null,
   "id": "73659f73-437d-4376-8864-053981201540",
   "metadata": {},
   "outputs": [],
   "source": []
  }
 ],
 "metadata": {
  "kernelspec": {
   "display_name": "Python 3 (ipykernel)",
   "language": "python",
   "name": "python3"
  },
  "language_info": {
   "codemirror_mode": {
    "name": "ipython",
    "version": 3
   },
   "file_extension": ".py",
   "mimetype": "text/x-python",
   "name": "python",
   "nbconvert_exporter": "python",
   "pygments_lexer": "ipython3",
   "version": "3.8.9"
  }
 },
 "nbformat": 4,
 "nbformat_minor": 5
}
