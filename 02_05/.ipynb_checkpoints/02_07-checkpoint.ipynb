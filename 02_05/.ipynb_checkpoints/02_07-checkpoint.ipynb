{
 "cells": [
  {
   "cell_type": "markdown",
   "id": "caa8cd98",
   "metadata": {},
   "source": [
    "# Solution: Analyze Text Output"
   ]
  },
  {
   "cell_type": "markdown",
   "id": "a19276f8-3553-4c5e-9789-44050539f21e",
   "metadata": {},
   "source": [
    "### Install the necessary libraries"
   ]
  },
  {
   "cell_type": "code",
   "execution_count": null,
   "id": "893d6110-9229-417b-93ac-5f23d4a58bd6",
   "metadata": {},
   "outputs": [],
   "source": [
    "pip install nltk"
   ]
  },
  {
   "cell_type": "markdown",
   "id": "49961eb7-0017-4a1a-b821-fe0aa9b89888",
   "metadata": {},
   "source": [
    "### Import the necessary libraries"
   ]
  },
  {
   "cell_type": "code",
   "execution_count": 2,
   "id": "96ac6b8d-32d5-41e8-be6c-1b76d919c44f",
   "metadata": {},
   "outputs": [],
   "source": [
    "import nltk\n",
    "from nltk.translate.bleu_score import sentence_bleu\n",
    "from nltk.translate.bleu_score import SmoothingFunction"
   ]
  },
  {
   "cell_type": "code",
   "execution_count": 3,
   "id": "cccb16cd-3187-4843-8692-1eef46fefdc1",
   "metadata": {},
   "outputs": [],
   "source": [
    "# Example reference texts and a candidate text from a generative model\n",
    "reference1 = \"Discovering new skills is both enjoyable and thrilling\".split()\n",
    "reference2 = \"It's exciting and enjoyable to learn new things\".split()\n",
    "reference3 = \"Gaining new knowledge can be fun and exhilarating\".split()\n",
    "candidate = \"Learning new stuff is fun and exciting\".split()"
   ]
  },
  {
   "cell_type": "code",
   "execution_count": 4,
   "id": "0dd9ba9e-a3cf-4b3e-a78e-61bf0545ed66",
   "metadata": {},
   "outputs": [],
   "source": [
    "# List of references\n",
    "references = [reference1, reference2, reference3]"
   ]
  },
  {
   "cell_type": "code",
   "execution_count": 5,
   "id": "73df666d-0765-4e9d-9432-2db1ba7052da",
   "metadata": {},
   "outputs": [
    {
     "name": "stdout",
     "output_type": "stream",
     "text": [
      "BLEU score: 0.07614310991217832\n"
     ]
    }
   ],
   "source": [
    "# Calculate BLEU score\n",
    "bleu_score = sentence_bleu(references, candidate, smoothing_function=SmoothingFunction().method1)\n",
    "\n",
    "print(\"BLEU score:\", bleu_score)"
   ]
  }
 ],
 "metadata": {
  "kernelspec": {
   "display_name": "Python 3 (ipykernel)",
   "language": "python",
   "name": "python3"
  },
  "language_info": {
   "codemirror_mode": {
    "name": "ipython",
    "version": 3
   },
   "file_extension": ".py",
   "mimetype": "text/x-python",
   "name": "python",
   "nbconvert_exporter": "python",
   "pygments_lexer": "ipython3",
   "version": "3.8.9"
  }
 },
 "nbformat": 4,
 "nbformat_minor": 5
}
